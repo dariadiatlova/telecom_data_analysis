{
 "cells": [
  {
   "cell_type": "markdown",
   "metadata": {},
   "source": [
    "## Дятлова Дарья"
   ]
  },
  {
   "cell_type": "code",
   "execution_count": 135,
   "metadata": {},
   "outputs": [],
   "source": [
    "import sklearn"
   ]
  },
  {
   "cell_type": "code",
   "execution_count": 136,
   "metadata": {},
   "outputs": [],
   "source": [
    "import pandas as pd\n",
    "import numpy as np\n",
    "from typing import List\n",
    "import plotly.graph_objects as go\n",
    "from sklearn.model_selection import train_test_split"
   ]
  },
  {
   "cell_type": "code",
   "execution_count": 137,
   "metadata": {},
   "outputs": [],
   "source": [
    "test_path = '/Users/diat.lov/Downloads/prod_st_data/hw1/test.csv'\n",
    "train_path_one = '/Users/diat.lov/Downloads/prod_st_data/hw1/train01.csv'\n",
    "train_path_two = '/Users/diat.lov/Downloads/prod_st_data/hw1//train02.csv'"
   ]
  },
  {
   "cell_type": "code",
   "execution_count": 289,
   "metadata": {},
   "outputs": [],
   "source": [
    "train_part_one = pd.read_csv(train_path_one, sep=';')\n",
    "train_part_two = pd.read_csv(train_path_two, sep=';')\n",
    "test_data = pd.read_csv(test_path, sep=';')"
   ]
  },
  {
   "cell_type": "code",
   "execution_count": 5,
   "metadata": {},
   "outputs": [],
   "source": [
    "assert len(train_part_one.id.unique()) == train_part_one.shape[0]"
   ]
  },
  {
   "cell_type": "code",
   "execution_count": 7,
   "metadata": {},
   "outputs": [
    {
     "data": {
      "text/html": [
       "<div>\n",
       "<style scoped>\n",
       "    .dataframe tbody tr th:only-of-type {\n",
       "        vertical-align: middle;\n",
       "    }\n",
       "\n",
       "    .dataframe tbody tr th {\n",
       "        vertical-align: top;\n",
       "    }\n",
       "\n",
       "    .dataframe thead th {\n",
       "        text-align: right;\n",
       "    }\n",
       "</style>\n",
       "<table border=\"1\" class=\"dataframe\">\n",
       "  <thead>\n",
       "    <tr style=\"text-align: right;\">\n",
       "      <th></th>\n",
       "      <th>id</th>\n",
       "      <th>y</th>\n",
       "      <th>x1</th>\n",
       "      <th>x2</th>\n",
       "      <th>x3</th>\n",
       "      <th>x4</th>\n",
       "      <th>x5</th>\n",
       "      <th>x6</th>\n",
       "      <th>x7</th>\n",
       "      <th>x8</th>\n",
       "      <th>...</th>\n",
       "      <th>x33</th>\n",
       "      <th>x34</th>\n",
       "      <th>x35</th>\n",
       "      <th>x36</th>\n",
       "      <th>x37</th>\n",
       "      <th>x38</th>\n",
       "      <th>x39</th>\n",
       "      <th>x40</th>\n",
       "      <th>x41</th>\n",
       "      <th>x42</th>\n",
       "    </tr>\n",
       "  </thead>\n",
       "  <tbody>\n",
       "    <tr>\n",
       "      <th>0</th>\n",
       "      <td>-9196902500682081897</td>\n",
       "      <td>0</td>\n",
       "      <td>-2201458060675810556</td>\n",
       "      <td>01.09.2008</td>\n",
       "      <td>6312572492787112517</td>\n",
       "      <td>184</td>\n",
       "      <td>-6.347413e+18</td>\n",
       "      <td>-3150357754345161454</td>\n",
       "      <td>0</td>\n",
       "      <td>[607.29999999999995 66.569999999999993 254.770...</td>\n",
       "      <td>...</td>\n",
       "      <td>[nan, nan, nan, nan, nan, nan]</td>\n",
       "      <td>[nan, nan, 1.0, 2.0, 1.0, nan]</td>\n",
       "      <td>[67.64, 67.64, 67.64, 67.64, 67.64, 67.64]</td>\n",
       "      <td>[199.65, 199.65, 199.65, 199.65, 199.65, 199.65]</td>\n",
       "      <td>[nan, nan, nan, nan, nan, nan]</td>\n",
       "      <td>[nan, nan, nan, nan, nan, nan]</td>\n",
       "      <td>[80.46, 80.46, 80.46, 80.46, 80.46, 80.46]</td>\n",
       "      <td>[nan, nan, nan, nan, nan, nan]</td>\n",
       "      <td>[nan, nan, nan, nan, nan, nan]</td>\n",
       "      <td>[nan, nan, nan, nan, nan, nan]</td>\n",
       "    </tr>\n",
       "  </tbody>\n",
       "</table>\n",
       "<p>1 rows × 44 columns</p>\n",
       "</div>"
      ],
      "text/plain": [
       "                    id  y                   x1          x2  \\\n",
       "0 -9196902500682081897  0 -2201458060675810556  01.09.2008   \n",
       "\n",
       "                    x3   x4            x5                   x6  x7  \\\n",
       "0  6312572492787112517  184 -6.347413e+18 -3150357754345161454   0   \n",
       "\n",
       "                                                  x8  ...  \\\n",
       "0  [607.29999999999995 66.569999999999993 254.770...  ...   \n",
       "\n",
       "                              x33                             x34  \\\n",
       "0  [nan, nan, nan, nan, nan, nan]  [nan, nan, 1.0, 2.0, 1.0, nan]   \n",
       "\n",
       "                                          x35  \\\n",
       "0  [67.64, 67.64, 67.64, 67.64, 67.64, 67.64]   \n",
       "\n",
       "                                                x36  \\\n",
       "0  [199.65, 199.65, 199.65, 199.65, 199.65, 199.65]   \n",
       "\n",
       "                              x37                             x38  \\\n",
       "0  [nan, nan, nan, nan, nan, nan]  [nan, nan, nan, nan, nan, nan]   \n",
       "\n",
       "                                          x39                             x40  \\\n",
       "0  [80.46, 80.46, 80.46, 80.46, 80.46, 80.46]  [nan, nan, nan, nan, nan, nan]   \n",
       "\n",
       "                              x41                             x42  \n",
       "0  [nan, nan, nan, nan, nan, nan]  [nan, nan, nan, nan, nan, nan]  \n",
       "\n",
       "[1 rows x 44 columns]"
      ]
     },
     "execution_count": 7,
     "metadata": {},
     "output_type": "execute_result"
    }
   ],
   "source": [
    "train_part_two.head(1)"
   ]
  },
  {
   "cell_type": "code",
   "execution_count": 8,
   "metadata": {},
   "outputs": [
    {
     "data": {
      "text/plain": [
       "(93189, 44)"
      ]
     },
     "execution_count": 8,
     "metadata": {},
     "output_type": "execute_result"
    }
   ],
   "source": [
    "train_part_two.shape"
   ]
  },
  {
   "cell_type": "code",
   "execution_count": 9,
   "metadata": {},
   "outputs": [
    {
     "name": "stdout",
     "output_type": "stream",
     "text": [
      "rate of total users left in first 6 months: 0.025177821764948993\n",
      "rate of total users left in second 6 months: 0.024187404092757728\n"
     ]
    }
   ],
   "source": [
    "print(f'rate of total users left in first 6 months: {len(train_part_one.y[train_part_one.y == 1]) / train_part_one.shape[0]}')\n",
    "print(f'rate of total users left in second 6 months: {len(train_part_two.y[train_part_two.y == 1]) / train_part_two.shape[0]}')"
   ]
  },
  {
   "cell_type": "code",
   "execution_count": 20,
   "metadata": {},
   "outputs": [
    {
     "data": {
      "text/plain": [
       "(array([-8.55246375e+18, -8.52300049e+18, -8.46517905e+18, -6.98633012e+18,\n",
       "        -6.34741325e+18, -5.15056141e+18, -4.70010804e+18, -3.80824545e+18,\n",
       "        -3.16769564e+18,  1.76960021e+18,  1.88811659e+18,  3.05255731e+18,\n",
       "         3.69580186e+18,  4.09361301e+18,  5.41747352e+18,  6.43922739e+18,\n",
       "         6.85636664e+18,  7.01335969e+18,  7.20436336e+18,  7.59905378e+18,\n",
       "         8.87840015e+18,             nan]),\n",
       " array([   16,    69, 10776,   301, 24518,  5787,  2057,    40,   993,\n",
       "          438,  1201,  5458,   148,   395,  4524,  6422,  6304,   244,\n",
       "         2128,  4297,  2668, 13162]))"
      ]
     },
     "execution_count": 20,
     "metadata": {},
     "output_type": "execute_result"
    }
   ],
   "source": [
    "np.unique(train_part_one.x5, return_counts=True)"
   ]
  },
  {
   "cell_type": "code",
   "execution_count": 31,
   "metadata": {},
   "outputs": [
    {
     "data": {
      "text/plain": [
       "2"
      ]
     },
     "execution_count": 31,
     "metadata": {},
     "output_type": "execute_result"
    }
   ],
   "source": [
    "np.unique(train_part_one[train_part_one.y == 1].x5, return_counts=True)"
   ]
  },
  {
   "cell_type": "code",
   "execution_count": 29,
   "metadata": {},
   "outputs": [
    {
     "data": {
      "text/plain": [
       "(array([-8.55246375e+18, -8.52300049e+18, -8.46517905e+18, -6.98633012e+18,\n",
       "        -6.34741325e+18, -5.15056141e+18, -4.70010804e+18, -3.80824545e+18,\n",
       "        -3.16769564e+18,  1.76960021e+18,  1.88811659e+18,  3.05255731e+18,\n",
       "         3.69580186e+18,  4.09361301e+18,  5.41747352e+18,  6.43922739e+18,\n",
       "         6.85636664e+18,  7.01335969e+18,  7.20436336e+18,  7.59905378e+18,\n",
       "         8.87840015e+18,             nan]),\n",
       " array([   16,    69, 10776,   301, 24518,  5787,  2057,    40,   993,\n",
       "          438,  1201,  5458,   148,   395,  4524,  6422,  6304,   244,\n",
       "         2128,  4297,  2668, 13162]))"
      ]
     },
     "execution_count": 29,
     "metadata": {},
     "output_type": "execute_result"
    }
   ],
   "source": [
    "np.unique(train_part_one.x5, return_counts=True)"
   ]
  },
  {
   "cell_type": "code",
   "execution_count": 142,
   "metadata": {},
   "outputs": [],
   "source": [
    "df_normolized_part_one = pd.DataFrame({})\n",
    "df_normolized_part_one['id'] = train_part_one.id\n",
    "for col in ['x1', 'x3', 'x4', 'x5', 'x6', 'x7']:\n",
    "    df_normolized_part_one[col + '_norm'] = (train_part_one[col] - train_part_one[col].mean()) / train_part_one[col].std()  \n",
    "df_normolized_part_one['y'] = train_part_one.y\n",
    "\n",
    "df_normolized_part_two = pd.DataFrame({})\n",
    "df_normolized_part_two['id'] = train_part_two.id\n",
    "for col in ['x1', 'x3', 'x4', 'x5', 'x6', 'x7']:\n",
    "    df_normolized_part_two[col + '_norm'] = (train_part_two[col] - train_part_two[col].mean()) / train_part_two[col].std()  \n",
    "df_normolized_part_two['y'] = train_part_two.y"
   ]
  },
  {
   "cell_type": "code",
   "execution_count": 291,
   "metadata": {},
   "outputs": [],
   "source": [
    "df_normolized_test = pd.DataFrame({})\n",
    "df_normolized_test['id'] = test_data.id\n",
    "for col in ['x1', 'x3', 'x4', 'x5', 'x6', 'x7']:\n",
    "    df_normolized_test[col + '_norm'] = (test_data[col] - test_data[col].mean()) / test_data[col].std()  "
   ]
  },
  {
   "cell_type": "code",
   "execution_count": 143,
   "metadata": {},
   "outputs": [],
   "source": [
    "df_normolized_y1_part_one = df_normolized_part_one[df_normolized_part_one.y == 1]\n",
    "df_normolized_y0_part_one = df_normolized_part_one[df_normolized_part_one.y == 0]\n",
    "\n",
    "df_normolized_y1_part_two = df_normolized_part_two[df_normolized_part_two.y == 1]\n",
    "df_normolized_y0_part_two = df_normolized_part_two[df_normolized_part_two.y == 0]"
   ]
  },
  {
   "cell_type": "code",
   "execution_count": 144,
   "metadata": {},
   "outputs": [],
   "source": [
    "df_normolized_y1_part_one = df_normolized_y1_part_one.fillna(df_normolized_part_one.groupby('y').mean().x5_norm[1])\n",
    "df_normolized_y0_part_one = df_normolized_y0_part_one.fillna(df_normolized_part_one.groupby('y').mean().x5_norm[0])\n",
    "\n",
    "df_normolized_y1_part_two = df_normolized_y1_part_two.fillna(df_normolized_part_two.groupby('y').mean().x5_norm[1])\n",
    "df_normolized_y0_part_two = df_normolized_y0_part_two.fillna(df_normolized_part_two.groupby('y').mean().x5_norm[0])"
   ]
  },
  {
   "cell_type": "code",
   "execution_count": 145,
   "metadata": {},
   "outputs": [],
   "source": [
    "new_df_part_one = pd.concat([df_normolized_y1_part_one, df_normolized_y0_part_one])\n",
    "new_df_part_two = pd.concat([df_normolized_y1_part_two, df_normolized_y0_part_two])"
   ]
  },
  {
   "cell_type": "code",
   "execution_count": 146,
   "metadata": {},
   "outputs": [],
   "source": [
    "def convert_to_list(input_arr):\n",
    "    res = []\n",
    "    for sample in input_arr:\n",
    "        l = []\n",
    "        for symbol in sample:\n",
    "            try:\n",
    "                l.append(float(symbol))\n",
    "            except Exception:\n",
    "                pass\n",
    "        if len(l) < 6:\n",
    "            res.append(np.array(l + [0 for _ in range(6 - len(l))]).astype(np.float32))\n",
    "            assert len(res[-1]) == 6\n",
    "        else:\n",
    "            res.append(np.array(l[:6]).astype(np.float32))\n",
    "    return res   "
   ]
  },
  {
   "cell_type": "code",
   "execution_count": 147,
   "metadata": {},
   "outputs": [],
   "source": [
    "nested_column_names = train_part_one.columns[11:]"
   ]
  },
  {
   "cell_type": "code",
   "execution_count": 148,
   "metadata": {},
   "outputs": [],
   "source": [
    "df_averaged_feature_names_part_one = pd.DataFrame({})\n",
    "df_averaged_feature_names_part_one['id'] = train_part_one.id\n",
    "df_averaged_feature_names_part_one['y'] = train_part_one.y\n",
    "\n",
    "df_averaged_feature_names_part_two = pd.DataFrame({})\n",
    "df_averaged_feature_names_part_two['id'] = train_part_two.id\n",
    "df_averaged_feature_names_part_two['y'] = train_part_two.y"
   ]
  },
  {
   "cell_type": "code",
   "execution_count": 292,
   "metadata": {},
   "outputs": [],
   "source": [
    "df_avg_test = pd.DataFrame({})\n",
    "df_avg_test['id'] = df_normolized_test.id"
   ]
  },
  {
   "cell_type": "code",
   "execution_count": 149,
   "metadata": {},
   "outputs": [],
   "source": [
    "for col in nested_column_names:\n",
    "    df_averaged_feature_names_part_one[col + '_avg'] = np.mean(convert_to_list(train_part_one[col].to_list()), axis=1)\n",
    "    df_averaged_feature_names_part_two[col + '_avg'] = np.mean(convert_to_list(train_part_two[col].to_list()), axis=1)"
   ]
  },
  {
   "cell_type": "code",
   "execution_count": 293,
   "metadata": {},
   "outputs": [],
   "source": [
    "for col in nested_column_names:\n",
    "    df_avg_test[col + '_avg'] = np.mean(convert_to_list(test_data[col].to_list()), axis=1)"
   ]
  },
  {
   "cell_type": "code",
   "execution_count": 150,
   "metadata": {},
   "outputs": [],
   "source": [
    "train_part_one_to_split = df_averaged_feature_names_part_one.merge(new_df_part_one, on='id', how='inner')\n",
    "train_part_two_to_split = df_averaged_feature_names_part_two.merge(new_df_part_two, on='id', how='inner')"
   ]
  },
  {
   "cell_type": "code",
   "execution_count": 300,
   "metadata": {},
   "outputs": [],
   "source": [
    "test_data_to_split = df_avg_test.merge(df_normolized_test, on='id', how='inner')"
   ]
  },
  {
   "cell_type": "code",
   "execution_count": 301,
   "metadata": {},
   "outputs": [
    {
     "data": {
      "text/html": [
       "<div>\n",
       "<style scoped>\n",
       "    .dataframe tbody tr th:only-of-type {\n",
       "        vertical-align: middle;\n",
       "    }\n",
       "\n",
       "    .dataframe tbody tr th {\n",
       "        vertical-align: top;\n",
       "    }\n",
       "\n",
       "    .dataframe thead th {\n",
       "        text-align: right;\n",
       "    }\n",
       "</style>\n",
       "<table border=\"1\" class=\"dataframe\">\n",
       "  <thead>\n",
       "    <tr style=\"text-align: right;\">\n",
       "      <th></th>\n",
       "      <th>id</th>\n",
       "      <th>x10_avg</th>\n",
       "      <th>x11_avg</th>\n",
       "      <th>x12_avg</th>\n",
       "      <th>x13_avg</th>\n",
       "      <th>x14_avg</th>\n",
       "      <th>x15_avg</th>\n",
       "      <th>x16_avg</th>\n",
       "      <th>x17_avg</th>\n",
       "      <th>x18_avg</th>\n",
       "      <th>...</th>\n",
       "      <th>x39_avg</th>\n",
       "      <th>x40_avg</th>\n",
       "      <th>x41_avg</th>\n",
       "      <th>x42_avg</th>\n",
       "      <th>x1_norm</th>\n",
       "      <th>x3_norm</th>\n",
       "      <th>x4_norm</th>\n",
       "      <th>x5_norm</th>\n",
       "      <th>x6_norm</th>\n",
       "      <th>x7_norm</th>\n",
       "    </tr>\n",
       "  </thead>\n",
       "  <tbody>\n",
       "    <tr>\n",
       "      <th>0</th>\n",
       "      <td>-9196902500682081904</td>\n",
       "      <td>0.0</td>\n",
       "      <td>0.0</td>\n",
       "      <td>0.0</td>\n",
       "      <td>0.333333</td>\n",
       "      <td>0.0</td>\n",
       "      <td>0.0</td>\n",
       "      <td>0.0</td>\n",
       "      <td>0.0</td>\n",
       "      <td>4.833333</td>\n",
       "      <td>...</td>\n",
       "      <td>4.333333</td>\n",
       "      <td>0.0</td>\n",
       "      <td>0.0</td>\n",
       "      <td>0.0</td>\n",
       "      <td>0.135947</td>\n",
       "      <td>0.071251</td>\n",
       "      <td>0.570143</td>\n",
       "      <td>-0.810711</td>\n",
       "      <td>0.631129</td>\n",
       "      <td>-0.773302</td>\n",
       "    </tr>\n",
       "  </tbody>\n",
       "</table>\n",
       "<p>1 rows × 40 columns</p>\n",
       "</div>"
      ],
      "text/plain": [
       "                    id  x10_avg  x11_avg  x12_avg   x13_avg  x14_avg  x15_avg  \\\n",
       "0 -9196902500682081904      0.0      0.0      0.0  0.333333      0.0      0.0   \n",
       "\n",
       "   x16_avg  x17_avg   x18_avg  ...   x39_avg  x40_avg  x41_avg  x42_avg  \\\n",
       "0      0.0      0.0  4.833333  ...  4.333333      0.0      0.0      0.0   \n",
       "\n",
       "    x1_norm   x3_norm   x4_norm   x5_norm   x6_norm   x7_norm  \n",
       "0  0.135947  0.071251  0.570143 -0.810711  0.631129 -0.773302  \n",
       "\n",
       "[1 rows x 40 columns]"
      ]
     },
     "execution_count": 301,
     "metadata": {},
     "output_type": "execute_result"
    }
   ],
   "source": [
    "test_data_to_split.head(1)"
   ]
  },
  {
   "cell_type": "code",
   "execution_count": 151,
   "metadata": {},
   "outputs": [],
   "source": [
    "train_part_one_to_split.drop(columns=['y_y'], inplace=True)\n",
    "train_part_two_to_split.drop(columns=['y_y'], inplace=True)"
   ]
  },
  {
   "cell_type": "code",
   "execution_count": 152,
   "metadata": {},
   "outputs": [],
   "source": [
    "train_part_one_to_split = train_part_one_to_split.rename(columns={\"y_x\": \"y\"})\n",
    "train_part_two_to_split = train_part_two_to_split.rename(columns={\"y_x\": \"y\"})"
   ]
  },
  {
   "cell_type": "code",
   "execution_count": 153,
   "metadata": {},
   "outputs": [
    {
     "data": {
      "text/html": [
       "<div>\n",
       "<style scoped>\n",
       "    .dataframe tbody tr th:only-of-type {\n",
       "        vertical-align: middle;\n",
       "    }\n",
       "\n",
       "    .dataframe tbody tr th {\n",
       "        vertical-align: top;\n",
       "    }\n",
       "\n",
       "    .dataframe thead th {\n",
       "        text-align: right;\n",
       "    }\n",
       "</style>\n",
       "<table border=\"1\" class=\"dataframe\">\n",
       "  <thead>\n",
       "    <tr style=\"text-align: right;\">\n",
       "      <th></th>\n",
       "      <th>id</th>\n",
       "      <th>y</th>\n",
       "      <th>x10_avg</th>\n",
       "      <th>x11_avg</th>\n",
       "      <th>x12_avg</th>\n",
       "      <th>x13_avg</th>\n",
       "      <th>x14_avg</th>\n",
       "      <th>x15_avg</th>\n",
       "      <th>x16_avg</th>\n",
       "      <th>x17_avg</th>\n",
       "      <th>...</th>\n",
       "      <th>x39_avg</th>\n",
       "      <th>x40_avg</th>\n",
       "      <th>x41_avg</th>\n",
       "      <th>x42_avg</th>\n",
       "      <th>x1_norm</th>\n",
       "      <th>x3_norm</th>\n",
       "      <th>x4_norm</th>\n",
       "      <th>x5_norm</th>\n",
       "      <th>x6_norm</th>\n",
       "      <th>x7_norm</th>\n",
       "    </tr>\n",
       "  </thead>\n",
       "  <tbody>\n",
       "    <tr>\n",
       "      <th>0</th>\n",
       "      <td>-9196902500682081904</td>\n",
       "      <td>0</td>\n",
       "      <td>0.000000</td>\n",
       "      <td>0.000000</td>\n",
       "      <td>0.000000</td>\n",
       "      <td>0.500000</td>\n",
       "      <td>0.000000</td>\n",
       "      <td>0.166667</td>\n",
       "      <td>0.000000</td>\n",
       "      <td>0.166667</td>\n",
       "      <td>...</td>\n",
       "      <td>4.333333</td>\n",
       "      <td>0.0</td>\n",
       "      <td>0.0</td>\n",
       "      <td>0.0</td>\n",
       "      <td>0.146329</td>\n",
       "      <td>0.070090</td>\n",
       "      <td>0.511438</td>\n",
       "      <td>-0.816230</td>\n",
       "      <td>0.636315</td>\n",
       "      <td>-0.727861</td>\n",
       "    </tr>\n",
       "    <tr>\n",
       "      <th>1</th>\n",
       "      <td>-9196902500682081900</td>\n",
       "      <td>0</td>\n",
       "      <td>0.000000</td>\n",
       "      <td>0.000000</td>\n",
       "      <td>0.000000</td>\n",
       "      <td>0.000000</td>\n",
       "      <td>0.000000</td>\n",
       "      <td>0.000000</td>\n",
       "      <td>0.166667</td>\n",
       "      <td>0.000000</td>\n",
       "      <td>...</td>\n",
       "      <td>2.333333</td>\n",
       "      <td>0.0</td>\n",
       "      <td>0.0</td>\n",
       "      <td>0.0</td>\n",
       "      <td>0.146329</td>\n",
       "      <td>-3.513818</td>\n",
       "      <td>0.511438</td>\n",
       "      <td>-1.146805</td>\n",
       "      <td>-1.364314</td>\n",
       "      <td>-0.727861</td>\n",
       "    </tr>\n",
       "    <tr>\n",
       "      <th>2</th>\n",
       "      <td>-9196902500682081899</td>\n",
       "      <td>0</td>\n",
       "      <td>0.000000</td>\n",
       "      <td>0.333333</td>\n",
       "      <td>1.166667</td>\n",
       "      <td>0.000000</td>\n",
       "      <td>0.000000</td>\n",
       "      <td>0.000000</td>\n",
       "      <td>0.000000</td>\n",
       "      <td>0.000000</td>\n",
       "      <td>...</td>\n",
       "      <td>4.333333</td>\n",
       "      <td>0.0</td>\n",
       "      <td>0.0</td>\n",
       "      <td>0.0</td>\n",
       "      <td>0.146329</td>\n",
       "      <td>0.070090</td>\n",
       "      <td>0.340303</td>\n",
       "      <td>1.020228</td>\n",
       "      <td>-0.772798</td>\n",
       "      <td>-0.150518</td>\n",
       "    </tr>\n",
       "    <tr>\n",
       "      <th>3</th>\n",
       "      <td>-9196902500682081897</td>\n",
       "      <td>0</td>\n",
       "      <td>0.000000</td>\n",
       "      <td>0.000000</td>\n",
       "      <td>0.000000</td>\n",
       "      <td>0.000000</td>\n",
       "      <td>0.000000</td>\n",
       "      <td>0.000000</td>\n",
       "      <td>0.000000</td>\n",
       "      <td>0.000000</td>\n",
       "      <td>...</td>\n",
       "      <td>4.333333</td>\n",
       "      <td>0.0</td>\n",
       "      <td>0.0</td>\n",
       "      <td>0.0</td>\n",
       "      <td>0.146329</td>\n",
       "      <td>0.070090</td>\n",
       "      <td>0.511438</td>\n",
       "      <td>-0.816230</td>\n",
       "      <td>-0.337783</td>\n",
       "      <td>-0.727861</td>\n",
       "    </tr>\n",
       "    <tr>\n",
       "      <th>4</th>\n",
       "      <td>-9196902500681081897</td>\n",
       "      <td>0</td>\n",
       "      <td>0.000000</td>\n",
       "      <td>0.000000</td>\n",
       "      <td>0.500000</td>\n",
       "      <td>0.000000</td>\n",
       "      <td>0.000000</td>\n",
       "      <td>0.000000</td>\n",
       "      <td>0.000000</td>\n",
       "      <td>0.000000</td>\n",
       "      <td>...</td>\n",
       "      <td>4.333333</td>\n",
       "      <td>0.0</td>\n",
       "      <td>0.0</td>\n",
       "      <td>0.0</td>\n",
       "      <td>0.146329</td>\n",
       "      <td>0.070090</td>\n",
       "      <td>0.438094</td>\n",
       "      <td>1.244834</td>\n",
       "      <td>1.165308</td>\n",
       "      <td>0.426826</td>\n",
       "    </tr>\n",
       "    <tr>\n",
       "      <th>...</th>\n",
       "      <td>...</td>\n",
       "      <td>...</td>\n",
       "      <td>...</td>\n",
       "      <td>...</td>\n",
       "      <td>...</td>\n",
       "      <td>...</td>\n",
       "      <td>...</td>\n",
       "      <td>...</td>\n",
       "      <td>...</td>\n",
       "      <td>...</td>\n",
       "      <td>...</td>\n",
       "      <td>...</td>\n",
       "      <td>...</td>\n",
       "      <td>...</td>\n",
       "      <td>...</td>\n",
       "      <td>...</td>\n",
       "      <td>...</td>\n",
       "      <td>...</td>\n",
       "      <td>...</td>\n",
       "      <td>...</td>\n",
       "      <td>...</td>\n",
       "    </tr>\n",
       "    <tr>\n",
       "      <th>91941</th>\n",
       "      <td>9162040885607725763</td>\n",
       "      <td>0</td>\n",
       "      <td>0.000000</td>\n",
       "      <td>0.000000</td>\n",
       "      <td>0.000000</td>\n",
       "      <td>0.000000</td>\n",
       "      <td>0.000000</td>\n",
       "      <td>0.000000</td>\n",
       "      <td>0.000000</td>\n",
       "      <td>0.000000</td>\n",
       "      <td>...</td>\n",
       "      <td>4.333333</td>\n",
       "      <td>0.0</td>\n",
       "      <td>0.0</td>\n",
       "      <td>0.0</td>\n",
       "      <td>2.034117</td>\n",
       "      <td>0.070090</td>\n",
       "      <td>0.511438</td>\n",
       "      <td>0.002790</td>\n",
       "      <td>1.067166</td>\n",
       "      <td>-0.727861</td>\n",
       "    </tr>\n",
       "    <tr>\n",
       "      <th>91942</th>\n",
       "      <td>9162040885607725766</td>\n",
       "      <td>0</td>\n",
       "      <td>0.000000</td>\n",
       "      <td>0.000000</td>\n",
       "      <td>0.000000</td>\n",
       "      <td>0.000000</td>\n",
       "      <td>0.000000</td>\n",
       "      <td>0.000000</td>\n",
       "      <td>0.000000</td>\n",
       "      <td>0.000000</td>\n",
       "      <td>...</td>\n",
       "      <td>4.333333</td>\n",
       "      <td>0.0</td>\n",
       "      <td>0.0</td>\n",
       "      <td>0.0</td>\n",
       "      <td>2.034117</td>\n",
       "      <td>0.070090</td>\n",
       "      <td>0.511438</td>\n",
       "      <td>0.002790</td>\n",
       "      <td>1.945735</td>\n",
       "      <td>-0.727861</td>\n",
       "    </tr>\n",
       "    <tr>\n",
       "      <th>91943</th>\n",
       "      <td>9162040885608725764</td>\n",
       "      <td>0</td>\n",
       "      <td>0.166667</td>\n",
       "      <td>0.000000</td>\n",
       "      <td>1.333333</td>\n",
       "      <td>0.000000</td>\n",
       "      <td>0.000000</td>\n",
       "      <td>0.000000</td>\n",
       "      <td>0.000000</td>\n",
       "      <td>0.000000</td>\n",
       "      <td>...</td>\n",
       "      <td>0.000000</td>\n",
       "      <td>0.0</td>\n",
       "      <td>0.0</td>\n",
       "      <td>0.0</td>\n",
       "      <td>-1.428925</td>\n",
       "      <td>0.070090</td>\n",
       "      <td>0.095826</td>\n",
       "      <td>1.360765</td>\n",
       "      <td>0.636315</td>\n",
       "      <td>-0.150518</td>\n",
       "    </tr>\n",
       "    <tr>\n",
       "      <th>91944</th>\n",
       "      <td>9162040885608725770</td>\n",
       "      <td>0</td>\n",
       "      <td>0.000000</td>\n",
       "      <td>0.500000</td>\n",
       "      <td>0.000000</td>\n",
       "      <td>0.000000</td>\n",
       "      <td>0.666667</td>\n",
       "      <td>0.000000</td>\n",
       "      <td>0.000000</td>\n",
       "      <td>0.000000</td>\n",
       "      <td>...</td>\n",
       "      <td>4.333333</td>\n",
       "      <td>0.0</td>\n",
       "      <td>0.0</td>\n",
       "      <td>0.0</td>\n",
       "      <td>-1.428925</td>\n",
       "      <td>0.070090</td>\n",
       "      <td>0.511438</td>\n",
       "      <td>1.360765</td>\n",
       "      <td>0.636315</td>\n",
       "      <td>-0.727861</td>\n",
       "    </tr>\n",
       "    <tr>\n",
       "      <th>91945</th>\n",
       "      <td>9162040885609725775</td>\n",
       "      <td>0</td>\n",
       "      <td>0.000000</td>\n",
       "      <td>0.000000</td>\n",
       "      <td>0.000000</td>\n",
       "      <td>0.666667</td>\n",
       "      <td>0.000000</td>\n",
       "      <td>0.000000</td>\n",
       "      <td>0.500000</td>\n",
       "      <td>0.000000</td>\n",
       "      <td>...</td>\n",
       "      <td>4.333333</td>\n",
       "      <td>0.0</td>\n",
       "      <td>0.0</td>\n",
       "      <td>0.0</td>\n",
       "      <td>1.033297</td>\n",
       "      <td>0.070090</td>\n",
       "      <td>0.511438</td>\n",
       "      <td>-0.816230</td>\n",
       "      <td>0.597449</td>\n",
       "      <td>-0.727861</td>\n",
       "    </tr>\n",
       "  </tbody>\n",
       "</table>\n",
       "<p>91946 rows × 41 columns</p>\n",
       "</div>"
      ],
      "text/plain": [
       "                        id  y   x10_avg   x11_avg   x12_avg   x13_avg  \\\n",
       "0     -9196902500682081904  0  0.000000  0.000000  0.000000  0.500000   \n",
       "1     -9196902500682081900  0  0.000000  0.000000  0.000000  0.000000   \n",
       "2     -9196902500682081899  0  0.000000  0.333333  1.166667  0.000000   \n",
       "3     -9196902500682081897  0  0.000000  0.000000  0.000000  0.000000   \n",
       "4     -9196902500681081897  0  0.000000  0.000000  0.500000  0.000000   \n",
       "...                    ... ..       ...       ...       ...       ...   \n",
       "91941  9162040885607725763  0  0.000000  0.000000  0.000000  0.000000   \n",
       "91942  9162040885607725766  0  0.000000  0.000000  0.000000  0.000000   \n",
       "91943  9162040885608725764  0  0.166667  0.000000  1.333333  0.000000   \n",
       "91944  9162040885608725770  0  0.000000  0.500000  0.000000  0.000000   \n",
       "91945  9162040885609725775  0  0.000000  0.000000  0.000000  0.666667   \n",
       "\n",
       "        x14_avg   x15_avg   x16_avg   x17_avg  ...   x39_avg  x40_avg  \\\n",
       "0      0.000000  0.166667  0.000000  0.166667  ...  4.333333      0.0   \n",
       "1      0.000000  0.000000  0.166667  0.000000  ...  2.333333      0.0   \n",
       "2      0.000000  0.000000  0.000000  0.000000  ...  4.333333      0.0   \n",
       "3      0.000000  0.000000  0.000000  0.000000  ...  4.333333      0.0   \n",
       "4      0.000000  0.000000  0.000000  0.000000  ...  4.333333      0.0   \n",
       "...         ...       ...       ...       ...  ...       ...      ...   \n",
       "91941  0.000000  0.000000  0.000000  0.000000  ...  4.333333      0.0   \n",
       "91942  0.000000  0.000000  0.000000  0.000000  ...  4.333333      0.0   \n",
       "91943  0.000000  0.000000  0.000000  0.000000  ...  0.000000      0.0   \n",
       "91944  0.666667  0.000000  0.000000  0.000000  ...  4.333333      0.0   \n",
       "91945  0.000000  0.000000  0.500000  0.000000  ...  4.333333      0.0   \n",
       "\n",
       "       x41_avg  x42_avg   x1_norm   x3_norm   x4_norm   x5_norm   x6_norm  \\\n",
       "0          0.0      0.0  0.146329  0.070090  0.511438 -0.816230  0.636315   \n",
       "1          0.0      0.0  0.146329 -3.513818  0.511438 -1.146805 -1.364314   \n",
       "2          0.0      0.0  0.146329  0.070090  0.340303  1.020228 -0.772798   \n",
       "3          0.0      0.0  0.146329  0.070090  0.511438 -0.816230 -0.337783   \n",
       "4          0.0      0.0  0.146329  0.070090  0.438094  1.244834  1.165308   \n",
       "...        ...      ...       ...       ...       ...       ...       ...   \n",
       "91941      0.0      0.0  2.034117  0.070090  0.511438  0.002790  1.067166   \n",
       "91942      0.0      0.0  2.034117  0.070090  0.511438  0.002790  1.945735   \n",
       "91943      0.0      0.0 -1.428925  0.070090  0.095826  1.360765  0.636315   \n",
       "91944      0.0      0.0 -1.428925  0.070090  0.511438  1.360765  0.636315   \n",
       "91945      0.0      0.0  1.033297  0.070090  0.511438 -0.816230  0.597449   \n",
       "\n",
       "        x7_norm  \n",
       "0     -0.727861  \n",
       "1     -0.727861  \n",
       "2     -0.150518  \n",
       "3     -0.727861  \n",
       "4      0.426826  \n",
       "...         ...  \n",
       "91941 -0.727861  \n",
       "91942 -0.727861  \n",
       "91943 -0.150518  \n",
       "91944 -0.727861  \n",
       "91945 -0.727861  \n",
       "\n",
       "[91946 rows x 41 columns]"
      ]
     },
     "execution_count": 153,
     "metadata": {},
     "output_type": "execute_result"
    }
   ],
   "source": [
    "train_part_one_to_split"
   ]
  },
  {
   "cell_type": "code",
   "execution_count": 154,
   "metadata": {},
   "outputs": [
    {
     "data": {
      "text/html": [
       "<div>\n",
       "<style scoped>\n",
       "    .dataframe tbody tr th:only-of-type {\n",
       "        vertical-align: middle;\n",
       "    }\n",
       "\n",
       "    .dataframe tbody tr th {\n",
       "        vertical-align: top;\n",
       "    }\n",
       "\n",
       "    .dataframe thead th {\n",
       "        text-align: right;\n",
       "    }\n",
       "</style>\n",
       "<table border=\"1\" class=\"dataframe\">\n",
       "  <thead>\n",
       "    <tr style=\"text-align: right;\">\n",
       "      <th></th>\n",
       "      <th>id</th>\n",
       "      <th>y</th>\n",
       "      <th>x10_avg</th>\n",
       "      <th>x11_avg</th>\n",
       "      <th>x12_avg</th>\n",
       "      <th>x13_avg</th>\n",
       "      <th>x14_avg</th>\n",
       "      <th>x15_avg</th>\n",
       "      <th>x16_avg</th>\n",
       "      <th>x17_avg</th>\n",
       "      <th>...</th>\n",
       "      <th>x39_avg</th>\n",
       "      <th>x40_avg</th>\n",
       "      <th>x41_avg</th>\n",
       "      <th>x42_avg</th>\n",
       "      <th>x1_norm</th>\n",
       "      <th>x3_norm</th>\n",
       "      <th>x4_norm</th>\n",
       "      <th>x5_norm</th>\n",
       "      <th>x6_norm</th>\n",
       "      <th>x7_norm</th>\n",
       "    </tr>\n",
       "  </thead>\n",
       "  <tbody>\n",
       "    <tr>\n",
       "      <th>0</th>\n",
       "      <td>-9196902500682081897</td>\n",
       "      <td>0</td>\n",
       "      <td>0.000000</td>\n",
       "      <td>0.0</td>\n",
       "      <td>0.000000</td>\n",
       "      <td>0.000000</td>\n",
       "      <td>0.000000</td>\n",
       "      <td>0.0</td>\n",
       "      <td>0.000000</td>\n",
       "      <td>0.0</td>\n",
       "      <td>...</td>\n",
       "      <td>4.333333</td>\n",
       "      <td>0.0</td>\n",
       "      <td>0.0</td>\n",
       "      <td>0.0</td>\n",
       "      <td>0.144024</td>\n",
       "      <td>0.070414</td>\n",
       "      <td>0.549187</td>\n",
       "      <td>-0.812987</td>\n",
       "      <td>-0.336746</td>\n",
       "      <td>-0.755672</td>\n",
       "    </tr>\n",
       "    <tr>\n",
       "      <th>1</th>\n",
       "      <td>-9196902500682081892</td>\n",
       "      <td>0</td>\n",
       "      <td>0.000000</td>\n",
       "      <td>0.0</td>\n",
       "      <td>0.000000</td>\n",
       "      <td>0.000000</td>\n",
       "      <td>0.000000</td>\n",
       "      <td>0.0</td>\n",
       "      <td>0.000000</td>\n",
       "      <td>0.0</td>\n",
       "      <td>...</td>\n",
       "      <td>0.000000</td>\n",
       "      <td>0.0</td>\n",
       "      <td>0.0</td>\n",
       "      <td>0.0</td>\n",
       "      <td>0.144024</td>\n",
       "      <td>0.070414</td>\n",
       "      <td>0.549187</td>\n",
       "      <td>-0.812987</td>\n",
       "      <td>-1.123224</td>\n",
       "      <td>-0.755672</td>\n",
       "    </tr>\n",
       "    <tr>\n",
       "      <th>2</th>\n",
       "      <td>-9196902500681081898</td>\n",
       "      <td>0</td>\n",
       "      <td>0.000000</td>\n",
       "      <td>0.0</td>\n",
       "      <td>1.500000</td>\n",
       "      <td>0.166667</td>\n",
       "      <td>0.166667</td>\n",
       "      <td>0.0</td>\n",
       "      <td>0.000000</td>\n",
       "      <td>0.0</td>\n",
       "      <td>...</td>\n",
       "      <td>0.000000</td>\n",
       "      <td>0.0</td>\n",
       "      <td>0.0</td>\n",
       "      <td>0.0</td>\n",
       "      <td>0.144024</td>\n",
       "      <td>0.070414</td>\n",
       "      <td>-2.415469</td>\n",
       "      <td>-1.143430</td>\n",
       "      <td>-1.363796</td>\n",
       "      <td>1.506536</td>\n",
       "    </tr>\n",
       "    <tr>\n",
       "      <th>3</th>\n",
       "      <td>-9196902500681081897</td>\n",
       "      <td>0</td>\n",
       "      <td>0.000000</td>\n",
       "      <td>0.0</td>\n",
       "      <td>0.500000</td>\n",
       "      <td>0.000000</td>\n",
       "      <td>0.000000</td>\n",
       "      <td>0.0</td>\n",
       "      <td>0.000000</td>\n",
       "      <td>0.0</td>\n",
       "      <td>...</td>\n",
       "      <td>4.333333</td>\n",
       "      <td>0.0</td>\n",
       "      <td>0.0</td>\n",
       "      <td>0.0</td>\n",
       "      <td>0.144024</td>\n",
       "      <td>0.070414</td>\n",
       "      <td>0.478600</td>\n",
       "      <td>1.247253</td>\n",
       "      <td>1.167106</td>\n",
       "      <td>0.375432</td>\n",
       "    </tr>\n",
       "    <tr>\n",
       "      <th>4</th>\n",
       "      <td>-9196902500681081889</td>\n",
       "      <td>0</td>\n",
       "      <td>0.000000</td>\n",
       "      <td>0.0</td>\n",
       "      <td>0.000000</td>\n",
       "      <td>0.166667</td>\n",
       "      <td>0.000000</td>\n",
       "      <td>0.0</td>\n",
       "      <td>0.000000</td>\n",
       "      <td>0.0</td>\n",
       "      <td>...</td>\n",
       "      <td>4.333333</td>\n",
       "      <td>0.0</td>\n",
       "      <td>0.0</td>\n",
       "      <td>0.0</td>\n",
       "      <td>0.144024</td>\n",
       "      <td>0.070414</td>\n",
       "      <td>0.549187</td>\n",
       "      <td>0.653729</td>\n",
       "      <td>-1.311236</td>\n",
       "      <td>-0.755672</td>\n",
       "    </tr>\n",
       "    <tr>\n",
       "      <th>...</th>\n",
       "      <td>...</td>\n",
       "      <td>...</td>\n",
       "      <td>...</td>\n",
       "      <td>...</td>\n",
       "      <td>...</td>\n",
       "      <td>...</td>\n",
       "      <td>...</td>\n",
       "      <td>...</td>\n",
       "      <td>...</td>\n",
       "      <td>...</td>\n",
       "      <td>...</td>\n",
       "      <td>...</td>\n",
       "      <td>...</td>\n",
       "      <td>...</td>\n",
       "      <td>...</td>\n",
       "      <td>...</td>\n",
       "      <td>...</td>\n",
       "      <td>...</td>\n",
       "      <td>...</td>\n",
       "      <td>...</td>\n",
       "      <td>...</td>\n",
       "    </tr>\n",
       "    <tr>\n",
       "      <th>93184</th>\n",
       "      <td>9162040885608725764</td>\n",
       "      <td>0</td>\n",
       "      <td>0.166667</td>\n",
       "      <td>0.0</td>\n",
       "      <td>1.333333</td>\n",
       "      <td>0.000000</td>\n",
       "      <td>0.000000</td>\n",
       "      <td>0.0</td>\n",
       "      <td>0.000000</td>\n",
       "      <td>0.0</td>\n",
       "      <td>...</td>\n",
       "      <td>0.000000</td>\n",
       "      <td>0.0</td>\n",
       "      <td>0.0</td>\n",
       "      <td>0.0</td>\n",
       "      <td>-1.426596</td>\n",
       "      <td>0.070414</td>\n",
       "      <td>0.149194</td>\n",
       "      <td>1.363137</td>\n",
       "      <td>0.637844</td>\n",
       "      <td>-0.190120</td>\n",
       "    </tr>\n",
       "    <tr>\n",
       "      <th>93185</th>\n",
       "      <td>9162040885608725769</td>\n",
       "      <td>0</td>\n",
       "      <td>0.000000</td>\n",
       "      <td>0.0</td>\n",
       "      <td>1.166667</td>\n",
       "      <td>0.000000</td>\n",
       "      <td>0.000000</td>\n",
       "      <td>0.0</td>\n",
       "      <td>0.000000</td>\n",
       "      <td>0.0</td>\n",
       "      <td>...</td>\n",
       "      <td>3.000000</td>\n",
       "      <td>0.0</td>\n",
       "      <td>0.0</td>\n",
       "      <td>0.0</td>\n",
       "      <td>-1.426596</td>\n",
       "      <td>0.070414</td>\n",
       "      <td>-3.591919</td>\n",
       "      <td>1.363137</td>\n",
       "      <td>-0.236896</td>\n",
       "      <td>-0.755672</td>\n",
       "    </tr>\n",
       "    <tr>\n",
       "      <th>93186</th>\n",
       "      <td>9162040885608725770</td>\n",
       "      <td>0</td>\n",
       "      <td>0.000000</td>\n",
       "      <td>0.5</td>\n",
       "      <td>0.000000</td>\n",
       "      <td>0.000000</td>\n",
       "      <td>0.666667</td>\n",
       "      <td>0.0</td>\n",
       "      <td>0.000000</td>\n",
       "      <td>0.0</td>\n",
       "      <td>...</td>\n",
       "      <td>4.333333</td>\n",
       "      <td>0.0</td>\n",
       "      <td>0.0</td>\n",
       "      <td>0.0</td>\n",
       "      <td>-1.426596</td>\n",
       "      <td>0.070414</td>\n",
       "      <td>0.549187</td>\n",
       "      <td>1.363137</td>\n",
       "      <td>0.637844</td>\n",
       "      <td>-0.755672</td>\n",
       "    </tr>\n",
       "    <tr>\n",
       "      <th>93187</th>\n",
       "      <td>9162040885608725772</td>\n",
       "      <td>0</td>\n",
       "      <td>0.000000</td>\n",
       "      <td>0.0</td>\n",
       "      <td>0.000000</td>\n",
       "      <td>0.000000</td>\n",
       "      <td>0.000000</td>\n",
       "      <td>0.0</td>\n",
       "      <td>0.000000</td>\n",
       "      <td>0.0</td>\n",
       "      <td>...</td>\n",
       "      <td>4.333333</td>\n",
       "      <td>0.0</td>\n",
       "      <td>0.0</td>\n",
       "      <td>0.0</td>\n",
       "      <td>-1.426596</td>\n",
       "      <td>0.070414</td>\n",
       "      <td>0.549187</td>\n",
       "      <td>1.363137</td>\n",
       "      <td>0.970087</td>\n",
       "      <td>-0.755672</td>\n",
       "    </tr>\n",
       "    <tr>\n",
       "      <th>93188</th>\n",
       "      <td>9162040885609725775</td>\n",
       "      <td>0</td>\n",
       "      <td>0.000000</td>\n",
       "      <td>0.0</td>\n",
       "      <td>0.000000</td>\n",
       "      <td>0.166667</td>\n",
       "      <td>0.000000</td>\n",
       "      <td>0.0</td>\n",
       "      <td>0.166667</td>\n",
       "      <td>0.0</td>\n",
       "      <td>...</td>\n",
       "      <td>4.333333</td>\n",
       "      <td>0.0</td>\n",
       "      <td>0.0</td>\n",
       "      <td>0.0</td>\n",
       "      <td>1.028382</td>\n",
       "      <td>0.070414</td>\n",
       "      <td>0.549187</td>\n",
       "      <td>-0.812987</td>\n",
       "      <td>0.598959</td>\n",
       "      <td>-0.755672</td>\n",
       "    </tr>\n",
       "  </tbody>\n",
       "</table>\n",
       "<p>93189 rows × 41 columns</p>\n",
       "</div>"
      ],
      "text/plain": [
       "                        id  y   x10_avg  x11_avg   x12_avg   x13_avg  \\\n",
       "0     -9196902500682081897  0  0.000000      0.0  0.000000  0.000000   \n",
       "1     -9196902500682081892  0  0.000000      0.0  0.000000  0.000000   \n",
       "2     -9196902500681081898  0  0.000000      0.0  1.500000  0.166667   \n",
       "3     -9196902500681081897  0  0.000000      0.0  0.500000  0.000000   \n",
       "4     -9196902500681081889  0  0.000000      0.0  0.000000  0.166667   \n",
       "...                    ... ..       ...      ...       ...       ...   \n",
       "93184  9162040885608725764  0  0.166667      0.0  1.333333  0.000000   \n",
       "93185  9162040885608725769  0  0.000000      0.0  1.166667  0.000000   \n",
       "93186  9162040885608725770  0  0.000000      0.5  0.000000  0.000000   \n",
       "93187  9162040885608725772  0  0.000000      0.0  0.000000  0.000000   \n",
       "93188  9162040885609725775  0  0.000000      0.0  0.000000  0.166667   \n",
       "\n",
       "        x14_avg  x15_avg   x16_avg  x17_avg  ...   x39_avg  x40_avg  x41_avg  \\\n",
       "0      0.000000      0.0  0.000000      0.0  ...  4.333333      0.0      0.0   \n",
       "1      0.000000      0.0  0.000000      0.0  ...  0.000000      0.0      0.0   \n",
       "2      0.166667      0.0  0.000000      0.0  ...  0.000000      0.0      0.0   \n",
       "3      0.000000      0.0  0.000000      0.0  ...  4.333333      0.0      0.0   \n",
       "4      0.000000      0.0  0.000000      0.0  ...  4.333333      0.0      0.0   \n",
       "...         ...      ...       ...      ...  ...       ...      ...      ...   \n",
       "93184  0.000000      0.0  0.000000      0.0  ...  0.000000      0.0      0.0   \n",
       "93185  0.000000      0.0  0.000000      0.0  ...  3.000000      0.0      0.0   \n",
       "93186  0.666667      0.0  0.000000      0.0  ...  4.333333      0.0      0.0   \n",
       "93187  0.000000      0.0  0.000000      0.0  ...  4.333333      0.0      0.0   \n",
       "93188  0.000000      0.0  0.166667      0.0  ...  4.333333      0.0      0.0   \n",
       "\n",
       "       x42_avg   x1_norm   x3_norm   x4_norm   x5_norm   x6_norm   x7_norm  \n",
       "0          0.0  0.144024  0.070414  0.549187 -0.812987 -0.336746 -0.755672  \n",
       "1          0.0  0.144024  0.070414  0.549187 -0.812987 -1.123224 -0.755672  \n",
       "2          0.0  0.144024  0.070414 -2.415469 -1.143430 -1.363796  1.506536  \n",
       "3          0.0  0.144024  0.070414  0.478600  1.247253  1.167106  0.375432  \n",
       "4          0.0  0.144024  0.070414  0.549187  0.653729 -1.311236 -0.755672  \n",
       "...        ...       ...       ...       ...       ...       ...       ...  \n",
       "93184      0.0 -1.426596  0.070414  0.149194  1.363137  0.637844 -0.190120  \n",
       "93185      0.0 -1.426596  0.070414 -3.591919  1.363137 -0.236896 -0.755672  \n",
       "93186      0.0 -1.426596  0.070414  0.549187  1.363137  0.637844 -0.755672  \n",
       "93187      0.0 -1.426596  0.070414  0.549187  1.363137  0.970087 -0.755672  \n",
       "93188      0.0  1.028382  0.070414  0.549187 -0.812987  0.598959 -0.755672  \n",
       "\n",
       "[93189 rows x 41 columns]"
      ]
     },
     "execution_count": 154,
     "metadata": {},
     "output_type": "execute_result"
    }
   ],
   "source": [
    "train_part_two_to_split"
   ]
  },
  {
   "cell_type": "code",
   "execution_count": 161,
   "metadata": {},
   "outputs": [],
   "source": [
    "part_one_stat = pd.DataFrame((train_part_one_to_split == 0).sum(axis=0) / train_part_one_to_split.shape[0])"
   ]
  },
  {
   "cell_type": "code",
   "execution_count": 167,
   "metadata": {},
   "outputs": [
    {
     "data": {
      "text/plain": [
       "Index(['id', 'x28_avg', 'x34_avg', 'x35_avg', 'x36_avg', 'x39_avg', 'x1_norm',\n",
       "       'x3_norm', 'x4_norm', 'x5_norm', 'x6_norm', 'x7_norm'],\n",
       "      dtype='object')"
      ]
     },
     "execution_count": 167,
     "metadata": {},
     "output_type": "execute_result"
    }
   ],
   "source": [
    "part_one_stat[part_one_stat[0] < 0.3].index"
   ]
  },
  {
   "cell_type": "code",
   "execution_count": 180,
   "metadata": {},
   "outputs": [],
   "source": [
    "part_two_stat = pd.DataFrame((train_part_two_to_split == 0).sum(axis=0) / train_part_two_to_split.shape[0])"
   ]
  },
  {
   "cell_type": "code",
   "execution_count": 181,
   "metadata": {},
   "outputs": [
    {
     "data": {
      "text/plain": [
       "Index(['id', 'x28_avg', 'x34_avg', 'x35_avg', 'x36_avg', 'x39_avg', 'x1_norm',\n",
       "       'x3_norm', 'x4_norm', 'x5_norm', 'x6_norm', 'x7_norm'],\n",
       "      dtype='object')"
      ]
     },
     "execution_count": 181,
     "metadata": {},
     "output_type": "execute_result"
    }
   ],
   "source": [
    "part_two_stat[part_two_stat[0] < 0.3].index"
   ]
  },
  {
   "cell_type": "code",
   "execution_count": 186,
   "metadata": {},
   "outputs": [],
   "source": [
    "selected_part_one = train_part_one_to_split[list(part_one_stat[part_one_stat[0] < 0.3].index) + ['y']]"
   ]
  },
  {
   "cell_type": "code",
   "execution_count": 190,
   "metadata": {},
   "outputs": [
    {
     "data": {
      "text/plain": [
       "(89631, 13)"
      ]
     },
     "execution_count": 190,
     "metadata": {},
     "output_type": "execute_result"
    }
   ],
   "source": [
    "selected_part_one[selected_part_one.y == 0].shape"
   ]
  },
  {
   "cell_type": "code",
   "execution_count": 192,
   "metadata": {},
   "outputs": [
    {
     "data": {
      "text/plain": [
       "0.025177821764948993"
      ]
     },
     "execution_count": 192,
     "metadata": {},
     "output_type": "execute_result"
    }
   ],
   "source": [
    "selected_part_one[selected_part_one.y == 1].shape[0] / selected_part_one.shape[0]"
   ]
  },
  {
   "cell_type": "code",
   "execution_count": 193,
   "metadata": {},
   "outputs": [],
   "source": [
    "selected_part_one_zeros = selected_part_one.sample(frac=0.03, replace=False, random_state=42)"
   ]
  },
  {
   "cell_type": "code",
   "execution_count": 195,
   "metadata": {},
   "outputs": [],
   "source": [
    "df_balanced = selected_part_one_zeros.append(selected_part_one[selected_part_one.y == 1])"
   ]
  },
  {
   "cell_type": "code",
   "execution_count": 196,
   "metadata": {},
   "outputs": [
    {
     "data": {
      "text/plain": [
       "(5073, 13)"
      ]
     },
     "execution_count": 196,
     "metadata": {},
     "output_type": "execute_result"
    }
   ],
   "source": [
    "df_balanced.shape"
   ]
  },
  {
   "cell_type": "code",
   "execution_count": 299,
   "metadata": {},
   "outputs": [
    {
     "data": {
      "text/html": [
       "<div>\n",
       "<style scoped>\n",
       "    .dataframe tbody tr th:only-of-type {\n",
       "        vertical-align: middle;\n",
       "    }\n",
       "\n",
       "    .dataframe tbody tr th {\n",
       "        vertical-align: top;\n",
       "    }\n",
       "\n",
       "    .dataframe thead th {\n",
       "        text-align: right;\n",
       "    }\n",
       "</style>\n",
       "<table border=\"1\" class=\"dataframe\">\n",
       "  <thead>\n",
       "    <tr style=\"text-align: right;\">\n",
       "      <th></th>\n",
       "      <th>id</th>\n",
       "      <th>x10_avg</th>\n",
       "      <th>x11_avg</th>\n",
       "      <th>x12_avg</th>\n",
       "      <th>x13_avg</th>\n",
       "      <th>x14_avg</th>\n",
       "      <th>x15_avg</th>\n",
       "      <th>x16_avg</th>\n",
       "      <th>x17_avg</th>\n",
       "      <th>x18_avg</th>\n",
       "      <th>...</th>\n",
       "      <th>x33</th>\n",
       "      <th>x34</th>\n",
       "      <th>x35</th>\n",
       "      <th>x36</th>\n",
       "      <th>x37</th>\n",
       "      <th>x38</th>\n",
       "      <th>x39</th>\n",
       "      <th>x40</th>\n",
       "      <th>x41</th>\n",
       "      <th>x42</th>\n",
       "    </tr>\n",
       "  </thead>\n",
       "  <tbody>\n",
       "    <tr>\n",
       "      <th>0</th>\n",
       "      <td>-9196902500682081904</td>\n",
       "      <td>0.0</td>\n",
       "      <td>0.0</td>\n",
       "      <td>0.0</td>\n",
       "      <td>0.333333</td>\n",
       "      <td>0.0</td>\n",
       "      <td>0.0</td>\n",
       "      <td>0.0</td>\n",
       "      <td>0.0</td>\n",
       "      <td>4.833333</td>\n",
       "      <td>...</td>\n",
       "      <td>[nan, nan, nan, nan, nan, nan]</td>\n",
       "      <td>[1.0, nan, nan, 1.0, nan, 6.0]</td>\n",
       "      <td>[67.64, 67.64, 67.64, 67.64, 67.64, 67.64]</td>\n",
       "      <td>[224.79, 224.79, 224.79, 224.79, 224.79, 224.79]</td>\n",
       "      <td>[nan, nan, nan, nan, nan, nan]</td>\n",
       "      <td>[nan, nan, nan, nan, nan, nan]</td>\n",
       "      <td>[80.46, 80.46, 80.46, 80.46, 80.46, 80.46]</td>\n",
       "      <td>[nan, nan, nan, nan, nan, nan]</td>\n",
       "      <td>[nan, nan, nan, nan, nan, nan]</td>\n",
       "      <td>[nan, nan, nan, nan, nan, nan]</td>\n",
       "    </tr>\n",
       "  </tbody>\n",
       "</table>\n",
       "<p>1 rows × 76 columns</p>\n",
       "</div>"
      ],
      "text/plain": [
       "                    id  x10_avg  x11_avg  x12_avg   x13_avg  x14_avg  x15_avg  \\\n",
       "0 -9196902500682081904      0.0      0.0      0.0  0.333333      0.0      0.0   \n",
       "\n",
       "   x16_avg  x17_avg   x18_avg  ...                             x33  \\\n",
       "0      0.0      0.0  4.833333  ...  [nan, nan, nan, nan, nan, nan]   \n",
       "\n",
       "                              x34                                         x35  \\\n",
       "0  [1.0, nan, nan, 1.0, nan, 6.0]  [67.64, 67.64, 67.64, 67.64, 67.64, 67.64]   \n",
       "\n",
       "                                                x36  \\\n",
       "0  [224.79, 224.79, 224.79, 224.79, 224.79, 224.79]   \n",
       "\n",
       "                              x37                             x38  \\\n",
       "0  [nan, nan, nan, nan, nan, nan]  [nan, nan, nan, nan, nan, nan]   \n",
       "\n",
       "                                          x39                             x40  \\\n",
       "0  [80.46, 80.46, 80.46, 80.46, 80.46, 80.46]  [nan, nan, nan, nan, nan, nan]   \n",
       "\n",
       "                              x41                             x42  \n",
       "0  [nan, nan, nan, nan, nan, nan]  [nan, nan, nan, nan, nan, nan]  \n",
       "\n",
       "[1 rows x 76 columns]"
      ]
     },
     "execution_count": 299,
     "metadata": {},
     "output_type": "execute_result"
    }
   ],
   "source": [
    "test_data_to_split.head(1)"
   ]
  },
  {
   "cell_type": "code",
   "execution_count": 303,
   "metadata": {},
   "outputs": [],
   "source": [
    "test_data_final = test_data_to_split[part_one_stat[part_one_stat[0] < 0.3].index]"
   ]
  },
  {
   "cell_type": "code",
   "execution_count": null,
   "metadata": {},
   "outputs": [],
   "source": [
    "# selected_part_two = train_part_two_to_split[list(part_two_stat[part_two_stat[0] < 0.3].index)]\n",
    "# selected_part_two.rename(columns={'x28_avg': 'x28_avg_2'})"
   ]
  },
  {
   "cell_type": "code",
   "execution_count": 279,
   "metadata": {},
   "outputs": [],
   "source": [
    "X_train, X_test, y_train, y_test = train_test_split(df_balanced.drop(columns=['y']),\n",
    "                                                    df_balanced.y, \n",
    "                                                    test_size=0.33, \n",
    "                                                    random_state=42)"
   ]
  },
  {
   "cell_type": "code",
   "execution_count": 280,
   "metadata": {},
   "outputs": [],
   "source": [
    "from catboost import Pool, CatBoostClassifier"
   ]
  },
  {
   "cell_type": "code",
   "execution_count": 281,
   "metadata": {},
   "outputs": [],
   "source": [
    "train_dataset = Pool(data=X_train, label=y_train)\n",
    "\n",
    "eval_dataset = Pool(data=X_test, label=y_test)"
   ]
  },
  {
   "cell_type": "code",
   "execution_count": 306,
   "metadata": {},
   "outputs": [
    {
     "name": "stdout",
     "output_type": "stream",
     "text": [
      "Learning rate set to 0.5\n",
      "0:\tlearn: 0.5757665\ttotal: 3.04ms\tremaining: 12.2ms\n",
      "1:\tlearn: 0.5226115\ttotal: 4.91ms\tremaining: 7.36ms\n",
      "2:\tlearn: 0.4925119\ttotal: 6.66ms\tremaining: 4.44ms\n",
      "3:\tlearn: 0.4594498\ttotal: 9.25ms\tremaining: 2.31ms\n",
      "4:\tlearn: 0.4497864\ttotal: 11.9ms\tremaining: 0us\n"
     ]
    }
   ],
   "source": [
    "model = CatBoostClassifier(iterations=5)\n",
    "\n",
    "model.fit(train_dataset)\n",
    "preds_class = model.predict(train_dataset)\n",
    "pred_probas = model.predict_proba(train_dataset)"
   ]
  },
  {
   "cell_type": "code",
   "execution_count": 310,
   "metadata": {},
   "outputs": [
    {
     "name": "stdout",
     "output_type": "stream",
     "text": [
      "[0 0 0 1 0 1 0 1 1 1] [0.49140046 0.19284971 0.42592181 0.77104431 0.1601022  0.87598923\n",
      " 0.29343805 0.74910557 0.757692   0.79261494]\n"
     ]
    }
   ],
   "source": [
    "print(preds_class[:10], pred_probas[:10][:, 1])"
   ]
  },
  {
   "cell_type": "code",
   "execution_count": 283,
   "metadata": {},
   "outputs": [],
   "source": [
    "assert len(preds_class) == len(y_train)"
   ]
  },
  {
   "cell_type": "code",
   "execution_count": 284,
   "metadata": {},
   "outputs": [
    {
     "data": {
      "text/plain": [
       "0.8072395526780459"
      ]
     },
     "execution_count": 284,
     "metadata": {},
     "output_type": "execute_result"
    }
   ],
   "source": [
    "len(np.where(np.array(preds_class).astype(int) == np.array(y_train).astype(int))[0]) / len(preds_class)"
   ]
  },
  {
   "cell_type": "code",
   "execution_count": 285,
   "metadata": {},
   "outputs": [],
   "source": [
    "true_pred = np.where(np.array(preds_class).astype(int) == np.array(y_train).astype(int))[0]"
   ]
  },
  {
   "cell_type": "code",
   "execution_count": 286,
   "metadata": {},
   "outputs": [],
   "source": [
    "true_pred_one = np.where(preds_class[true_pred] == 1)[0]"
   ]
  },
  {
   "cell_type": "code",
   "execution_count": 287,
   "metadata": {},
   "outputs": [
    {
     "data": {
      "text/plain": [
       "0.7927815805849409"
      ]
     },
     "execution_count": 287,
     "metadata": {},
     "output_type": "execute_result"
    }
   ],
   "source": [
    "len(true_pred_one) / len(np.where(y_train == 1)[0])"
   ]
  },
  {
   "cell_type": "code",
   "execution_count": null,
   "metadata": {},
   "outputs": [],
   "source": [
    "# 0.24, 0.79 vs 0.98 0.8"
   ]
  },
  {
   "cell_type": "code",
   "execution_count": 311,
   "metadata": {},
   "outputs": [],
   "source": [
    "test_pred = model.predict_proba(test_data_final)[:, 1]"
   ]
  },
  {
   "cell_type": "code",
   "execution_count": 312,
   "metadata": {},
   "outputs": [
    {
     "data": {
      "text/plain": [
       "array([0.22494067, 0.20509774, 0.73851402, ..., 0.16356988, 0.44526065,\n",
       "       0.1601022 ])"
      ]
     },
     "execution_count": 312,
     "metadata": {},
     "output_type": "execute_result"
    }
   ],
   "source": [
    "test_pred"
   ]
  },
  {
   "cell_type": "code",
   "execution_count": 313,
   "metadata": {},
   "outputs": [],
   "source": [
    "res_df = pd.DataFrame({'id': test_data.id, 'result': test_pred})"
   ]
  },
  {
   "cell_type": "code",
   "execution_count": 315,
   "metadata": {},
   "outputs": [],
   "source": [
    "res_df.to_csv('/Users/diat.lov/Downloads/prod_st_data/hw1/result.csv', sep=';', index=False)"
   ]
  },
  {
   "cell_type": "code",
   "execution_count": null,
   "metadata": {},
   "outputs": [],
   "source": []
  }
 ],
 "metadata": {
  "kernelspec": {
   "display_name": "Python 3 (ipykernel)",
   "language": "python",
   "name": "python3"
  },
  "language_info": {
   "codemirror_mode": {
    "name": "ipython",
    "version": 3
   },
   "file_extension": ".py",
   "mimetype": "text/x-python",
   "name": "python",
   "nbconvert_exporter": "python",
   "pygments_lexer": "ipython3",
   "version": "3.8.11"
  }
 },
 "nbformat": 4,
 "nbformat_minor": 1
}